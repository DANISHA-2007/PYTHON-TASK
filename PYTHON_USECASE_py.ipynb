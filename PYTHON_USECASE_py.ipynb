{
  "nbformat": 4,
  "nbformat_minor": 0,
  "metadata": {
    "colab": {
      "provenance": [],
      "authorship_tag": "ABX9TyOJL0BmkMakwuq/svusyMhY",
      "include_colab_link": true
    },
    "kernelspec": {
      "name": "python3",
      "display_name": "Python 3"
    },
    "language_info": {
      "name": "python"
    }
  },
  "cells": [
    {
      "cell_type": "markdown",
      "metadata": {
        "id": "view-in-github",
        "colab_type": "text"
      },
      "source": [
        "<a href=\"https://colab.research.google.com/github/DANISHA-2007/PYTHON-TASK/blob/main/PYTHON_USECASE_py.ipynb\" target=\"_parent\"><img src=\"https://colab.research.google.com/assets/colab-badge.svg\" alt=\"Open In Colab\"/></a>"
      ]
    },
    {
      "cell_type": "code",
      "execution_count": null,
      "metadata": {
        "colab": {
          "base_uri": "https://localhost:8080/"
        },
        "id": "jzaxIXB2gWyi",
        "outputId": "a93fd303-9d34-40ab-9dd4-49db75ed6a19"
      },
      "outputs": [
        {
          "output_type": "stream",
          "name": "stdout",
          "text": [
            "🎲 Dice Rolling Simulator (NumPy) 🎲\n"
          ]
        }
      ],
      "source": [
        "import numpy as np\n",
        "\n",
        "def simulate_dice_roll():\n",
        "    print(\"🎲 Dice Rolling Simulator (NumPy) 🎲\")\n",
        "\n",
        "    try:\n",
        "        num_dice = int(input(\"Enter the number of dice (N): \"))\n",
        "        num_trials = int(input(\"Enter the number of times to roll (T): \"))\n",
        "    except ValueError:\n",
        "        print(\"❌ Invalid input. Please enter valid integers.\")\n",
        "        return\n",
        "\n",
        "    if num_dice <= 0 or num_trials <= 0:\n",
        "        print(\"❌ The number of dice and trials must be positive.\")\n",
        "        return\n",
        "\n",
        "    print(f\"\\nRolling {num_dice} D6s, {num_trials} times...\")\n",
        "\n",
        "    individual_rolls = np.random.randint(low=1, high=7, size=(num_trials, num_dice))\n",
        "    total_scores = np.sum(individual_rolls, axis=1)\n",
        "    mean_score = np.mean(total_scores)\n",
        "    expected_mean = num_dice * 3.5\n",
        "\n",
        "    print(\"\\n--- Simulation Results ---\")\n",
        "    print(\"\\n**A. Individual Rolls (Trials x Dice):**\")\n",
        "    print(individual_rolls)\n",
        "\n",
        "    print(\"\\n**B. Total Score for Each Trial:**\")\n",
        "    print(total_scores)\n",
        "\n",
        "    print(\"\\n**C. Summary Statistics:**\")\n",
        "    print(f\"Number of Trials: {num_trials}\")\n",
        "    print(f\"Theoretical Expected Mean: {expected_mean:.2f}\")\n",
        "    print(f\"**Simulated Mean Total Score: {mean_score:.2f}**\")\n",
        "\n",
        "# Run the simulation\n",
        "simulate_dice_roll()"
      ]
    }
  ]
}